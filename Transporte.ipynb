{
 "cells": [
  {
   "cell_type": "code",
   "execution_count": null,
   "metadata": {},
   "outputs": [],
   "source": [
    "import pandas as pd\n",
    "import numpy as np\n",
    "import matplotlib.pyplot as plt\n",
    "import seaborn as sns"
   ]
  },
  {
   "cell_type": "markdown",
   "metadata": {},
   "source": [
    "#### Ingesta de la *Data*"
   ]
  },
  {
   "cell_type": "code",
   "execution_count": null,
   "metadata": {},
   "outputs": [],
   "source": [
    "df = pd.read_csv('data/Transporte_Publico_Espana.csv')"
   ]
  },
  {
   "cell_type": "markdown",
   "metadata": {},
   "source": [
    "#### Empezamos con la exploracion del *CSV* "
   ]
  },
  {
   "cell_type": "code",
   "execution_count": null,
   "metadata": {},
   "outputs": [],
   "source": [
    "df.head(3)"
   ]
  },
  {
   "cell_type": "markdown",
   "metadata": {},
   "source": [
    "En un principio vemos que hay NaN y un valor de 999 minutos de retraso para el ID 1.\n",
    "La fecha esta con año-mes-dia-hora-minutos-segundos"
   ]
  },
  {
   "cell_type": "code",
   "execution_count": null,
   "metadata": {},
   "outputs": [],
   "source": [
    "df.info()"
   ]
  },
  {
   "cell_type": "markdown",
   "metadata": {},
   "source": [
    "Hay que transformar la fecha a datetime.\n",
    "Duracion_Viaje_Minutos no tiene el tipo correcto deberia ser numerico"
   ]
  },
  {
   "cell_type": "code",
   "execution_count": null,
   "metadata": {},
   "outputs": [],
   "source": [
    "df.describe()"
   ]
  },
  {
   "cell_type": "markdown",
   "metadata": {},
   "source": [
    "Retraso_Minutos presenta un valor maximo de 999 muy fuera de rango si tomamos max + std"
   ]
  },
  {
   "cell_type": "code",
   "execution_count": null,
   "metadata": {},
   "outputs": [],
   "source": [
    "df.duplicated().sum() "
   ]
  },
  {
   "cell_type": "markdown",
   "metadata": {},
   "source": [
    "Hay valores duplicados !!"
   ]
  },
  {
   "cell_type": "code",
   "execution_count": null,
   "metadata": {},
   "outputs": [],
   "source": [
    "df.isnull().sum()"
   ]
  },
  {
   "cell_type": "code",
   "execution_count": null,
   "metadata": {},
   "outputs": [],
   "source": [
    "df_copia1 = df.copy()"
   ]
  },
  {
   "cell_type": "markdown",
   "metadata": {},
   "source": [
    "#### Comenzamos a transformar !!"
   ]
  },
  {
   "cell_type": "code",
   "execution_count": null,
   "metadata": {},
   "outputs": [],
   "source": [
    "df.drop_duplicates(inplace=True)"
   ]
  },
  {
   "cell_type": "code",
   "execution_count": null,
   "metadata": {},
   "outputs": [],
   "source": [
    "df.duplicated().sum()"
   ]
  },
  {
   "cell_type": "code",
   "execution_count": null,
   "metadata": {},
   "outputs": [],
   "source": [
    "df['Fecha'] = pd.to_datetime(df['Fecha'], format='%Y-%m-%d %H:%M:%S')"
   ]
  },
  {
   "cell_type": "code",
   "execution_count": null,
   "metadata": {},
   "outputs": [],
   "source": [
    "df['Duracion_Viaje_Minutos'] = pd.to_numeric(df['Duracion_Viaje_Minutos'], errors='coerce')"
   ]
  },
  {
   "cell_type": "markdown",
   "metadata": {},
   "source": [
    "Dos opciones imputar valores o dropear los valores faltantes o Nan. (cantidad <1.5%)"
   ]
  },
  {
   "cell_type": "code",
   "execution_count": null,
   "metadata": {},
   "outputs": [],
   "source": [
    "df = df.dropna(subset=['Numero_Pasajeros'])"
   ]
  },
  {
   "cell_type": "code",
   "execution_count": null,
   "metadata": {},
   "outputs": [],
   "source": [
    "df['Duracion_Viaje_Minutos'] = df['Duracion_Viaje_Minutos'].fillna(df['Duracion_Viaje_Minutos'].mean())"
   ]
  },
  {
   "cell_type": "markdown",
   "metadata": {},
   "source": [
    "Columna Retraso_Minutos: Eliminar 500 registros en un dataset de 100,000 representa solo el 0.5% del total, lo cual es un impacto mínimo en términos de representatividad."
   ]
  },
  {
   "cell_type": "code",
   "execution_count": null,
   "metadata": {},
   "outputs": [],
   "source": [
    "df = df[df['Retraso_Minutos'] != 999]"
   ]
  },
  {
   "cell_type": "code",
   "execution_count": null,
   "metadata": {},
   "outputs": [],
   "source": [
    "df.shape"
   ]
  },
  {
   "cell_type": "code",
   "execution_count": null,
   "metadata": {},
   "outputs": [],
   "source": [
    "df.info()"
   ]
  },
  {
   "cell_type": "code",
   "execution_count": null,
   "metadata": {},
   "outputs": [],
   "source": [
    "df.duplicated().sum()"
   ]
  },
  {
   "cell_type": "code",
   "execution_count": null,
   "metadata": {},
   "outputs": [],
   "source": [
    "df.isnull().sum()"
   ]
  },
  {
   "cell_type": "markdown",
   "metadata": {},
   "source": [
    "Para poder buscar patrones por mes, dia y hora creo nuevas columnas a partir de la columna Fecha. Ademas "
   ]
  },
  {
   "cell_type": "code",
   "execution_count": null,
   "metadata": {},
   "outputs": [],
   "source": [
    "df['Mes'] = df['Fecha'].dt.month\n",
    "df['Día'] = df['Fecha'].dt.day\n",
    "df['Hora'] = df['Fecha'].dt.hour\n",
    "df = df.drop(columns='Fecha')"
   ]
  },
  {
   "cell_type": "code",
   "execution_count": null,
   "metadata": {},
   "outputs": [],
   "source": [
    "df.info()"
   ]
  },
  {
   "cell_type": "code",
   "execution_count": null,
   "metadata": {},
   "outputs": [],
   "source": [
    "df.head(3)"
   ]
  },
  {
   "cell_type": "code",
   "execution_count": null,
   "metadata": {},
   "outputs": [],
   "source": [
    "df_copia2 = df.copy"
   ]
  },
  {
   "cell_type": "code",
   "execution_count": null,
   "metadata": {},
   "outputs": [],
   "source": [
    "df.shape"
   ]
  },
  {
   "cell_type": "markdown",
   "metadata": {},
   "source": [
    "#### Analisis descriptivo de los retrasos"
   ]
  },
  {
   "cell_type": "code",
   "execution_count": null,
   "metadata": {},
   "outputs": [],
   "source": [
    "df.Retraso_Minutos.describe()"
   ]
  },
  {
   "cell_type": "markdown",
   "metadata": {},
   "source": [
    "La media de los retrasos es de aproximadamente 59 minutos, con una considerable variabilidad (std de 34.69 minutos), indicando que los retrasos pueden variar ampliamente."
   ]
  },
  {
   "cell_type": "code",
   "execution_count": null,
   "metadata": {},
   "outputs": [],
   "source": [
    "plt.figure(figsize=(10, 6))\n",
    "plt.hist(df['Retraso_Minutos'], bins=30, color='blue', edgecolor='black')\n",
    "plt.xlabel('Retraso (Minutos)')\n",
    "plt.ylabel('Conteo')\n",
    "plt.title('Distribución de Retrasos')\n",
    "plt.show()\n"
   ]
  },
  {
   "cell_type": "markdown",
   "metadata": {},
   "source": [
    "El histograma muestra una distribución uniforme de los retrasos en minutos, indicando que los retrasos están distribuidos de manera bastante equitativa a lo largo del rango de 0 a 120 minutos."
   ]
  },
  {
   "cell_type": "markdown",
   "metadata": {},
   "source": [
    "##### Segmentación por Variables (comparación)"
   ]
  },
  {
   "cell_type": "code",
   "execution_count": null,
   "metadata": {},
   "outputs": [],
   "source": [
    "# Retraso Promedio por Ruta\n",
    "average_delay_by_route = df.groupby('Ruta')['Retraso_Minutos'].mean().reset_index()\n",
    "plt.figure(figsize=(12, 8))\n",
    "plt.bar(average_delay_by_route['Ruta'], average_delay_by_route['Retraso_Minutos'], color='blue')\n",
    "plt.xlabel('Ruta')\n",
    "plt.ylabel('Retraso Promedio (Minutos)')\n",
    "plt.title('Retraso Promedio por Ruta')\n",
    "plt.xticks(rotation=40, ha='right') \n",
    "plt.grid(True) \n",
    "plt.show()\n"
   ]
  },
  {
   "cell_type": "markdown",
   "metadata": {},
   "source": [
    "Dado que los retrasos son uniformes entre las rutas, podría ser útil investigar factores sistémicos, como la infraestructura general, la planificación de horarios o la gestión operativa"
   ]
  },
  {
   "cell_type": "code",
   "execution_count": null,
   "metadata": {},
   "outputs": [],
   "source": [
    "# Retraso promedio por tipo de transporte\n",
    "average_delay_by_transport = df.groupby('Tipo_Transporte')['Retraso_Minutos'].mean().reset_index()\n",
    "plt.figure(figsize=(12, 8))\n",
    "plt.bar(average_delay_by_transport['Tipo_Transporte'], average_delay_by_transport['Retraso_Minutos'], color='green')\n",
    "plt.xlabel('Tipo de Transporte')\n",
    "plt.ylabel('Retraso Promedio (Minutos)')\n",
    "plt.title('Retraso Promedio por Tipo de Transporte')\n",
    "plt.grid(True)\n",
    "plt.show()\n"
   ]
  },
  {
   "cell_type": "markdown",
   "metadata": {},
   "source": [
    "Los retrasos no parecen estar influenciados por el tipo de transporte, por lo que podría ser útil investigar factores externos o sistémicos que afecten a todos los modos de transporte de manera similar."
   ]
  },
  {
   "cell_type": "code",
   "execution_count": null,
   "metadata": {},
   "outputs": [],
   "source": [
    "# Retraso promedio por región\n",
    "average_delay_by_region = df.groupby('Region')['Retraso_Minutos'].mean().reset_index()\n",
    "plt.figure(figsize=(12, 8))\n",
    "plt.bar(average_delay_by_region['Region'], average_delay_by_region['Retraso_Minutos'], color='red')\n",
    "plt.xlabel('Región')\n",
    "plt.ylabel('Retraso Promedio (Minutos)')\n",
    "plt.title('Retraso Promedio por Región')\n",
    "plt.xticks(rotation=90)\n",
    "plt.grid(True)\n",
    "plt.show()\n"
   ]
  },
  {
   "cell_type": "markdown",
   "metadata": {},
   "source": [
    "Los retrasos no parecen estar influenciados por la ubicación geográfica, lo que apunta a la posibilidad de factores sistémicos o nacionales que afectan el transporte en general."
   ]
  },
  {
   "cell_type": "markdown",
   "metadata": {},
   "source": [
    "#### Análisis Temporal"
   ]
  },
  {
   "cell_type": "code",
   "execution_count": null,
   "metadata": {},
   "outputs": [],
   "source": [
    "# Por Mes\n",
    "plt.figure(figsize=(12, 6))\n",
    "sns.boxplot(x='Mes', y='Retraso_Minutos', data=df)\n",
    "plt.title('Distribución de Retrasos por Mes')\n",
    "plt.xlabel('Mes')\n",
    "plt.ylabel('Retraso en Minutos')\n",
    "plt.show()\n"
   ]
  },
  {
   "cell_type": "markdown",
   "metadata": {},
   "source": [
    "La distribución de los retrasos por mes es uniforme, indicando que no hay una variación significativa en los retrasos entre estos meses. Esto sugiere que los factores que causan los retrasos son consistentes a lo largo del tiempo en este periodo. Solo se trabajo con el mes de enero, Febrero y 11 dias del mes de Marzo."
   ]
  },
  {
   "cell_type": "code",
   "execution_count": null,
   "metadata": {},
   "outputs": [],
   "source": [
    "# Por día de la semana\n",
    "average_delay_by_day = df.groupby('Dia_Semana')['Retraso_Minutos'].mean().reset_index()\n",
    "plt.figure(figsize=(12, 8))\n",
    "plt.bar(average_delay_by_day['Dia_Semana'], average_delay_by_day['Retraso_Minutos'], color='purple')\n",
    "plt.xlabel('Día de la Semana')\n",
    "plt.ylabel('Retraso Promedio (Minutos)')\n",
    "plt.title('Retraso Promedio por Día de la Semana')\n",
    "plt.grid(True)\n",
    "plt.show()"
   ]
  },
  {
   "cell_type": "markdown",
   "metadata": {},
   "source": [
    " Los retrasos no parecen estar influenciados por el día de la semana, lo que apunta a la posibilidad de factores sistémicos que afectan el transporte de manera uniforme cada día."
   ]
  },
  {
   "cell_type": "code",
   "execution_count": null,
   "metadata": {},
   "outputs": [],
   "source": [
    "# Por Hora\n",
    "plt.figure(figsize=(12, 6))\n",
    "sns.lineplot(x='Hora', y='Retraso_Minutos', data=df, errorbar=None)\n",
    "plt.title('Tendencia de Retrasos por Hora del Día')\n",
    "plt.xlabel('Hora del Día')\n",
    "plt.ylabel('Retraso en Minutos')\n",
    "plt.xticks(ticks=range(0, 24, 2))\n",
    "plt.show()\n"
   ]
  },
  {
   "cell_type": "markdown",
   "metadata": {},
   "source": [
    "La variabilidad en los retrasos a lo largo del día sugiere que hay factores temporales que influyen en la puntualidad del transporte, posiblemente relacionados con la demanda de pasajeros, la congestión del tráfico o la programación de los servicios.\n",
    "Considerar ajustes en los horarios de los servicios de transporte durante las horas pico identificadas para mitigar los retrasos."
   ]
  },
  {
   "cell_type": "code",
   "execution_count": null,
   "metadata": {},
   "outputs": [],
   "source": [
    "df.Ruta.unique()"
   ]
  },
  {
   "cell_type": "code",
   "execution_count": null,
   "metadata": {},
   "outputs": [],
   "source": [
    "df.head(3)"
   ]
  },
  {
   "cell_type": "markdown",
   "metadata": {},
   "source": [
    "#### Conectamos a MySQL"
   ]
  },
  {
   "cell_type": "code",
   "execution_count": null,
   "metadata": {},
   "outputs": [],
   "source": [
    "#! pip install mysql-connector-python"
   ]
  },
  {
   "cell_type": "code",
   "execution_count": null,
   "metadata": {},
   "outputs": [],
   "source": [
    "import mysql.connector\n",
    "import os\n",
    "\n",
    "db_config_no_db = {\n",
    "    'user': '*****',\n",
    "    'password': '******', \n",
    "    'host': 'localhost'\n",
    "}\n",
    "conn = mysql.connector.connect(**db_config_no_db)\n",
    "cursor = conn.cursor()\n",
    "cursor.execute(\"CREATE DATABASE IF NOT EXISTS transporte_publico\")\n",
    "conn.commit()\n",
    "conn.close()"
   ]
  },
  {
   "cell_type": "markdown",
   "metadata": {},
   "source": [
    "#### Creamos las tablas en Python y las generamos en MySQL"
   ]
  },
  {
   "cell_type": "code",
   "execution_count": null,
   "metadata": {},
   "outputs": [],
   "source": [
    "db_config = {\n",
    "    'user': '****',\n",
    "    'password': '*****',\n",
    "    'host': 'localhost'\n",
    "}\n",
    "conn = mysql.connector.connect(**db_config)\n",
    "cursor = conn.cursor()\n",
    "cursor.execute(\"CREATE DATABASE IF NOT EXISTS transporte_publico\")\n",
    "cursor.execute(\"USE transporte_publico\")\n",
    "\n",
    "cursor.execute('''\n",
    "CREATE TABLE IF NOT EXISTS rutas (\n",
    "    ID_Ruta INT AUTO_INCREMENT PRIMARY KEY,\n",
    "    Ruta VARCHAR(255) UNIQUE\n",
    ")\n",
    "''')\n",
    "cursor.execute('''\n",
    "CREATE TABLE IF NOT EXISTS tipos_transporte (\n",
    "    ID_Tipo_Transporte INT AUTO_INCREMENT PRIMARY KEY,\n",
    "    Tipo_Transporte VARCHAR(50) UNIQUE\n",
    ")\n",
    "''')\n",
    "cursor.execute('''\n",
    "CREATE TABLE IF NOT EXISTS regiones (\n",
    "    ID_Region INT AUTO_INCREMENT PRIMARY KEY,\n",
    "    Region VARCHAR(50) UNIQUE\n",
    ")\n",
    "''')\n",
    "cursor.execute('''\n",
    "CREATE TABLE IF NOT EXISTS viajes (\n",
    "    ID_Viaje INT PRIMARY KEY,\n",
    "    ID_Ruta INT,\n",
    "    Numero_Pasajeros FLOAT,\n",
    "    Duracion_Viaje_Minutos FLOAT,\n",
    "    Retraso_Minutos INT,\n",
    "    ID_Tipo_Transporte INT,\n",
    "    ID_Region INT,\n",
    "    Dia_Semana VARCHAR(20),\n",
    "    Mes INT,\n",
    "    Día INT,\n",
    "    Hora INT,\n",
    "    FOREIGN KEY (ID_Ruta) REFERENCES rutas(ID_Ruta),\n",
    "    FOREIGN KEY (ID_Tipo_Transporte) REFERENCES tipos_transporte(ID_Tipo_Transporte),\n",
    "    FOREIGN KEY (ID_Region) REFERENCES regiones(ID_Region)\n",
    ")\n",
    "''')\n",
    "conn.commit()\n"
   ]
  },
  {
   "cell_type": "markdown",
   "metadata": {},
   "source": [
    "#### Llenamos las tablas desde python en MySQL "
   ]
  },
  {
   "cell_type": "code",
   "execution_count": null,
   "metadata": {},
   "outputs": [],
   "source": [
    "for ruta in df['Ruta'].unique():\n",
    "    cursor.execute('INSERT IGNORE INTO rutas (Ruta) VALUES (%s)', (ruta,))\n",
    "for tipo in df['Tipo_Transporte'].unique():\n",
    "    cursor.execute('INSERT IGNORE INTO tipos_transporte (Tipo_Transporte) VALUES (%s)', (tipo,))\n",
    "for region in df['Region'].unique():\n",
    "    cursor.execute('INSERT IGNORE INTO regiones (Region) VALUES (%s)', (region,))\n",
    "conn.commit()\n"
   ]
  },
  {
   "cell_type": "code",
   "execution_count": null,
   "metadata": {},
   "outputs": [],
   "source": [
    "datos_viajes = df.to_records(index=False).tolist()\n",
    "consulta_insercion_viajes = '''\n",
    "INSERT INTO viajes (\n",
    "    ID_Viaje, ID_Ruta, Numero_Pasajeros, Duracion_Viaje_Minutos, Retraso_Minutos, \n",
    "    ID_Tipo_Transporte, ID_Region, Dia_Semana, Mes, Día, Hora\n",
    ") VALUES (\n",
    "    %s, \n",
    "    (SELECT ID_Ruta FROM rutas WHERE Ruta = %s),\n",
    "    %s, %s, %s, \n",
    "    (SELECT ID_Tipo_Transporte FROM tipos_transporte WHERE Tipo_Transporte = %s),\n",
    "    (SELECT ID_Region FROM regiones WHERE Region = %s),\n",
    "    %s, %s, %s, %s\n",
    ")\n",
    "'''\n",
    "datos_viajes_preparados = [\n",
    "    (\n",
    "        row.ID_Viaje, row.Ruta, row.Numero_Pasajeros, row.Duracion_Viaje_Minutos, row.Retraso_Minutos, \n",
    "        row.Tipo_Transporte, row.Region, row.Dia_Semana, row.Mes, row.Día, row.Hora\n",
    "    )\n",
    "    for row in df.itertuples()\n",
    "]\n",
    "\n",
    "cursor.executemany(consulta_insercion_viajes, datos_viajes_preparados)\n",
    "conn.commit()\n",
    "conn.close()\n"
   ]
  },
  {
   "cell_type": "markdown",
   "metadata": {},
   "source": [
    "#### Guardamos los datos en un csv"
   ]
  },
  {
   "cell_type": "code",
   "execution_count": null,
   "metadata": {},
   "outputs": [],
   "source": [
    "df.to_csv('transporte_publico_limpio.csv', index=False)"
   ]
  },
  {
   "cell_type": "markdown",
   "metadata": {},
   "source": [
    "#### Dado que no hay patrones visibles, verificamos por correlacion\n",
    "Verificacion de la correlacion entre las columnas"
   ]
  },
  {
   "cell_type": "markdown",
   "metadata": {},
   "source": [
    "Tranformo todos los datos a numericos "
   ]
  },
  {
   "cell_type": "code",
   "execution_count": null,
   "metadata": {},
   "outputs": [],
   "source": [
    "def transform_column_to_int(df, column_name):\n",
    "    categories = df[column_name].unique()\n",
    "    category_map = {category: idx for idx, category in enumerate(categories)}\n",
    "    df[column_name] = df[column_name].apply(lambda x: category_map[x])\n",
    "    df[column_name] = df[column_name].astype('int64')\n",
    "    return df\n",
    "\n",
    "\n",
    "columns_to_transform = ['Ruta', 'Tipo_Transporte', 'Region', 'Dia_Semana']\n",
    "for column in columns_to_transform:\n",
    "    df = transform_column_to_int(df, column)"
   ]
  },
  {
   "cell_type": "code",
   "execution_count": null,
   "metadata": {},
   "outputs": [],
   "source": [
    "correlation_matrix = df.corr()\n",
    "plt.figure(figsize=(10, 8))\n",
    "sns.heatmap(correlation_matrix, annot=True, cmap='coolwarm', linewidths=0.5)\n",
    "plt.title('Matriz de Correlación')\n",
    "plt.show()"
   ]
  },
  {
   "cell_type": "markdown",
   "metadata": {},
   "source": [
    "La mayoría de las correlaciones entre variables son muy bajas, cercanas a cero, lo que indica que no hay una relación lineal fuerte entre estas variables."
   ]
  }
 ],
 "metadata": {
  "kernelspec": {
   "display_name": "Python 3",
   "language": "python",
   "name": "python3"
  },
  "language_info": {
   "codemirror_mode": {
    "name": "ipython",
    "version": 3
   },
   "file_extension": ".py",
   "mimetype": "text/x-python",
   "name": "python",
   "nbconvert_exporter": "python",
   "pygments_lexer": "ipython3",
   "version": "3.12.3"
  }
 },
 "nbformat": 4,
 "nbformat_minor": 2
}
