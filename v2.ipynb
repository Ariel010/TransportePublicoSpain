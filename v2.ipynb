{
 "cells": [
  {
   "cell_type": "code",
   "execution_count": null,
   "metadata": {},
   "outputs": [],
   "source": [
    "import pandas as pd\n",
    "import numpy as np"
   ]
  },
  {
   "cell_type": "code",
   "execution_count": null,
   "metadata": {},
   "outputs": [],
   "source": [
    "df = pd.read_csv('data/Transporte_Publico_Espana.csv')"
   ]
  },
  {
   "cell_type": "code",
   "execution_count": null,
   "metadata": {},
   "outputs": [],
   "source": [
    "df.head(2)"
   ]
  },
  {
   "cell_type": "code",
   "execution_count": null,
   "metadata": {},
   "outputs": [],
   "source": [
    "df.Ruta.unique()"
   ]
  },
  {
   "cell_type": "code",
   "execution_count": null,
   "metadata": {},
   "outputs": [],
   "source": [
    "df.info()"
   ]
  },
  {
   "cell_type": "code",
   "execution_count": null,
   "metadata": {},
   "outputs": [],
   "source": [
    "df.describe()"
   ]
  },
  {
   "cell_type": "code",
   "execution_count": null,
   "metadata": {},
   "outputs": [],
   "source": [
    "df.duplicated().sum() # Tenemos duplicados"
   ]
  },
  {
   "cell_type": "code",
   "execution_count": null,
   "metadata": {},
   "outputs": [],
   "source": [
    "df.isnull().sum() # Hay que evaluar los Nan o None"
   ]
  },
  {
   "cell_type": "code",
   "execution_count": null,
   "metadata": {},
   "outputs": [],
   "source": [
    "df.Retraso_Minutos.value_counts() #501 veces aparece el 999 posible anomalia"
   ]
  },
  {
   "cell_type": "markdown",
   "metadata": {},
   "source": [
    "#### Columna Fecha figura como object \n",
    "Pasar a datetime "
   ]
  },
  {
   "cell_type": "code",
   "execution_count": null,
   "metadata": {},
   "outputs": [],
   "source": [
    "#df['Fecha'] = pd.to_datetime(df['Fecha'])\n",
    "df['Fecha'] = pd.to_datetime(df['Fecha'], format='%Y-%m-%d %H:%M:%S')"
   ]
  },
  {
   "cell_type": "code",
   "execution_count": null,
   "metadata": {},
   "outputs": [],
   "source": [
    "df['Año'] = df['Fecha'].dt.year\n",
    "df['Mes'] = df['Fecha'].dt.month\n",
    "df['Día'] = df['Fecha'].dt.day\n",
    "df['Hora'] = df['Fecha'].dt.hour\n",
    "df = df.drop(columns='Fecha')"
   ]
  },
  {
   "cell_type": "code",
   "execution_count": null,
   "metadata": {},
   "outputs": [],
   "source": [
    "df.dropna(inplace=True)"
   ]
  },
  {
   "cell_type": "code",
   "execution_count": null,
   "metadata": {},
   "outputs": [],
   "source": [
    "df.drop_duplicates(inplace=True)"
   ]
  },
  {
   "cell_type": "code",
   "execution_count": null,
   "metadata": {},
   "outputs": [],
   "source": [
    "df = df.drop(columns='Año') # Son datos del 2023"
   ]
  },
  {
   "cell_type": "code",
   "execution_count": null,
   "metadata": {},
   "outputs": [],
   "source": [
    "df.Dia_Semana.unique()"
   ]
  },
  {
   "cell_type": "code",
   "execution_count": null,
   "metadata": {},
   "outputs": [],
   "source": [
    "df.info()"
   ]
  },
  {
   "cell_type": "code",
   "execution_count": null,
   "metadata": {},
   "outputs": [],
   "source": [
    "df['Duracion_Viaje_Minutos'] = pd.to_numeric(df['Duracion_Viaje_Minutos'], errors='coerce')\n"
   ]
  },
  {
   "cell_type": "code",
   "execution_count": null,
   "metadata": {},
   "outputs": [],
   "source": [
    "# Contar los valores faltantes en cada columna\n",
    "valores_faltantes = df.isnull().sum()\n",
    "print(valores_faltantes)"
   ]
  },
  {
   "cell_type": "code",
   "execution_count": null,
   "metadata": {},
   "outputs": [],
   "source": [
    "df.duplicated().sum()"
   ]
  },
  {
   "cell_type": "code",
   "execution_count": null,
   "metadata": {},
   "outputs": [],
   "source": [
    "import matplotlib.pyplot as plt\n",
    "\n",
    "def crear_boxplots_simple(df, columnas):\n",
    "    n = len(columnas)\n",
    "    filas = (n + 2) // 3\n",
    "    \n",
    "    plt.figure(figsize=(10, 5 * filas))\n",
    "    \n",
    "    for i, columna in enumerate(columnas, 1):\n",
    "        plt.subplot(filas, 3, i)\n",
    "        plt.boxplot(df[columna])\n",
    "        plt.title(columna, fontsize=8)\n",
    "    \n",
    "    plt.tight_layout()\n",
    "    plt.show()\n",
    "\n",
    "# Ejemplo de uso\n",
    "columnas_a_graficar = ['Numero_Pasajeros', 'Duracion_Viaje_Minutos', 'Retraso_Minutos', 'Día', 'Mes', 'Hora']\n",
    "crear_boxplots_simple(df, columnas_a_graficar)\n"
   ]
  },
  {
   "cell_type": "markdown",
   "metadata": {},
   "source": [
    "Análisis de Outliers: Resultados\n",
    "Los gráficos de caja (boxplots) muestran la distribución de los datos en las columnas numéricas y resaltan los valores atípicos (outliers).\n",
    "\n",
    "Observaciones Iniciales:\n",
    "Numero_Pasajeros:\n",
    "Existen algunos valores atípicos en el número de pasajeros.\n",
    "Duracion_Viaje_Minutos:\n",
    "Se observan varios valores atípicos en la duración de los viajes.\n",
    "Retraso_Minutos:\n",
    "La mayoría de los valores están dentro del rango, pero hay algunos valores extremos que destacan, como el valor de 999 minutos de retraso."
   ]
  },
  {
   "cell_type": "code",
   "execution_count": null,
   "metadata": {},
   "outputs": [],
   "source": [
    "# Análisis de retrasos por tipo de transporte\n",
    "retrasos_por_transporte = df.groupby('Tipo_Transporte')['Retraso_Minutos'].mean().reset_index()\n",
    "print(retrasos_por_transporte)\n",
    "\n",
    "# Análisis de retrasos por región\n",
    "retrasos_por_region = df.groupby('Region')['Retraso_Minutos'].mean().reset_index()\n",
    "print(retrasos_por_region)\n",
    "\n",
    "# Visualización de retrasos por tipo de transporte\n",
    "plt.figure(figsize=(10, 6))\n",
    "plt.bar(retrasos_por_transporte['Tipo_Transporte'], retrasos_por_transporte['Retraso_Minutos'])\n",
    "plt.title('Retrasos Promedio por Tipo de Transporte')\n",
    "plt.xlabel('Tipo de Transporte')\n",
    "plt.ylabel('Retraso Promedio (Minutos)')\n",
    "plt.show()\n",
    "\n",
    "# Visualización de retrasos por región\n",
    "plt.figure(figsize=(10, 6))\n",
    "plt.bar(retrasos_por_region['Region'], retrasos_por_region['Retraso_Minutos'])\n",
    "plt.title('Retrasos Promedio por Región')\n",
    "plt.xlabel('Región')\n",
    "plt.ylabel('Retraso Promedio (Minutos)')\n",
    "plt.show()\n"
   ]
  },
  {
   "cell_type": "markdown",
   "metadata": {},
   "source": [
    "\n",
    "Resultados:\n",
    "Retrasos por Tipo de Transporte:\n",
    "\n",
    "Autobús: 59.38 minutos\n",
    "Metro: 59.38 minutos\n",
    "Tranvía: 59.46 minutos\n",
    "Tren: 59.09 minutos\n",
    "Todos los tipos de transporte presentan un retraso promedio similar, con los trenes mostrando ligeramente menos retrasos.\n",
    "\n",
    "Retrasos por Región:\n",
    "\n",
    "Barcelona: 59.55 minutos\n",
    "Bilbao: 59.31 minutos\n",
    "Madrid: 59.02 minutos\n",
    "Malaga: 59.45 minutos\n",
    "Sevilla: 59.38 minutos\n",
    "Valencia: 59.25 minutos\n",
    "Zaragoza: 59.35 minutos\n",
    "Madrid presenta los menores retrasos promedio, mientras que Barcelona tiene los mayores retrasos."
   ]
  },
  {
   "cell_type": "code",
   "execution_count": null,
   "metadata": {},
   "outputs": [],
   "source": [
    "# Análisis de retrasos por ruta\n",
    "retrasos_por_ruta = df.groupby('Ruta')['Retraso_Minutos'].mean().reset_index()\n",
    "print(retrasos_por_ruta)\n",
    "\n",
    "# Visualización de retrasos por ruta\n",
    "plt.figure(figsize=(15, 8))\n",
    "plt.barh(retrasos_por_ruta['Ruta'], retrasos_por_ruta['Retraso_Minutos'])\n",
    "plt.title('Retrasos Promedio por Ruta')\n",
    "plt.xlabel('Retraso Promedio (Minutos)')\n",
    "plt.ylabel('Ruta')\n",
    "plt.show()\n"
   ]
  },
  {
   "cell_type": "markdown",
   "metadata": {},
   "source": [
    "Resultados:\n",
    "Las rutas con los mayores retrasos promedio son:\n",
    "\n",
    "Zaragoza - Barcelona: 59.80 minutos\n",
    "Barcelona - Valencia: 59.65 minutos\n",
    "Valencia - Sevilla: 59.57 minutos\n",
    "Bilbao - Madrid: 59.52 minutos\n",
    "Las rutas con los menores retrasos promedio son:\n",
    "\n",
    "Madrid - Malaga: 58.78 minutos\n",
    "Barcelona - Bilbao: 59.00 minutos\n",
    "Malaga - Sevilla: 59.01 minutos"
   ]
  },
  {
   "cell_type": "code",
   "execution_count": null,
   "metadata": {},
   "outputs": [],
   "source": [
    "# Extraer mes de la fecha\n",
    "#df['Mes'] = df['Fecha'].dt.month\n",
    "\n",
    "# Análisis de retrasos por mes\n",
    "retrasos_por_mes = df.groupby('Mes')['Retraso_Minutos'].mean().reset_index()\n",
    "print(retrasos_por_mes)\n",
    "\n",
    "# Visualización de retrasos por mes\n",
    "plt.figure(figsize=(10, 6))\n",
    "plt.plot(retrasos_por_mes['Mes'], retrasos_por_mes['Retraso_Minutos'], marker='o')\n",
    "plt.title('Retrasos Promedio por Mes')\n",
    "plt.xlabel('Mes')\n",
    "plt.ylabel('Retraso Promedio (Minutos)')\n",
    "plt.grid(True)\n",
    "plt.show()\n"
   ]
  },
  {
   "cell_type": "markdown",
   "metadata": {},
   "source": [
    "Análisis Temporal de Retrasos\n",
    "Resultados del Análisis por Mes:\n",
    "Los retrasos promedio por mes son:\n",
    "\n",
    "Enero: 59.16 minutos\n",
    "Febrero: 59.47 minutos\n",
    "Marzo: 59.43 minutos\n",
    "Se observa que febrero tiene los retrasos promedio más altos, seguido de marzo y enero."
   ]
  },
  {
   "cell_type": "code",
   "execution_count": null,
   "metadata": {},
   "outputs": [],
   "source": [
    "# Extraer día de la fecha\n",
    "#df['Día'] = df['Fecha'].dt.day\n",
    "\n",
    "# Análisis de retrasos por día\n",
    "retrasos_por_dia = df.groupby('Día')['Retraso_Minutos'].mean().reset_index()\n",
    "print(retrasos_por_dia)\n",
    "\n",
    "# Visualización de retrasos por día\n",
    "plt.figure(figsize=(15, 8))\n",
    "plt.plot(retrasos_por_dia['Día'], retrasos_por_dia['Retraso_Minutos'], marker='o')\n",
    "plt.title('Retrasos Promedio por Día')\n",
    "plt.xlabel('Día')\n",
    "plt.ylabel('Retraso Promedio (Minutos)')\n",
    "plt.grid(True)\n",
    "plt.show()\n"
   ]
  },
  {
   "cell_type": "markdown",
   "metadata": {},
   "source": [
    "Resultados del Análisis por Día:\n",
    "Los retrasos promedio por día varían ligeramente. Algunos días presentan retrasos más altos que otros, como el día 30, que tiene el retraso promedio más alto con 61.14 minutos."
   ]
  },
  {
   "cell_type": "code",
   "execution_count": null,
   "metadata": {},
   "outputs": [],
   "source": [
    "#! pip install mysql-connector-python"
   ]
  },
  {
   "cell_type": "code",
   "execution_count": null,
   "metadata": {},
   "outputs": [],
   "source": [
    "df.info()"
   ]
  },
  {
   "cell_type": "code",
   "execution_count": null,
   "metadata": {},
   "outputs": [],
   "source": [
    "import mysql.connector\n",
    "\n",
    "# Configurar la conexión a la base de datos MySQL sin especificar la base de datos\n",
    "db_config_no_db = {\n",
    "    'user': 'root',\n",
    "    'password': '1409',\n",
    "    'host': 'localhost'\n",
    "}\n",
    "\n",
    "conn = mysql.connector.connect(**db_config_no_db)\n",
    "cursor = conn.cursor()\n",
    "\n",
    "# Crear la base de datos si no existe\n",
    "cursor.execute(\"CREATE DATABASE IF NOT EXISTS transporte_publico\")\n",
    "\n",
    "conn.commit()\n",
    "conn.close()\n"
   ]
  },
  {
   "cell_type": "code",
   "execution_count": null,
   "metadata": {},
   "outputs": [],
   "source": []
  },
  {
   "cell_type": "code",
   "execution_count": null,
   "metadata": {},
   "outputs": [],
   "source": [
    "import mysql.connector\n",
    "import pandas as pd\n",
    "\n",
    "# Supongamos que transporte_publico_df_clean ya está definido\n",
    "# transporte_publico_df_clean = pd.read_csv('your_cleaned_csv_file.csv')\n",
    "\n",
    "# Configurar la conexión a la base de datos MySQL\n",
    "db_config = {\n",
    "    'user': 'root',\n",
    "    'password': '1409',\n",
    "    'host': 'localhost'\n",
    "}\n",
    "\n",
    "# Conectar a MySQL sin especificar la base de datos inicialmente\n",
    "conn = mysql.connector.connect(**db_config)\n",
    "cursor = conn.cursor()\n",
    "\n",
    "# Crear la base de datos si no existe\n",
    "cursor.execute(\"CREATE DATABASE IF NOT EXISTS transporte_publico\")\n",
    "cursor.execute(\"USE transporte_publico\")\n",
    "\n",
    "# Crear las tablas con columnas autoincrementales y restricciones UNIQUE\n",
    "cursor.execute('''\n",
    "CREATE TABLE IF NOT EXISTS rutas (\n",
    "    ID_Ruta INT AUTO_INCREMENT PRIMARY KEY,\n",
    "    Ruta VARCHAR(255) UNIQUE\n",
    ")\n",
    "''')\n",
    "\n",
    "cursor.execute('''\n",
    "CREATE TABLE IF NOT EXISTS tipos_transporte (\n",
    "    ID_Tipo_Transporte INT AUTO_INCREMENT PRIMARY KEY,\n",
    "    Tipo_Transporte VARCHAR(50) UNIQUE\n",
    ")\n",
    "''')\n",
    "\n",
    "cursor.execute('''\n",
    "CREATE TABLE IF NOT EXISTS regiones (\n",
    "    ID_Region INT AUTO_INCREMENT PRIMARY KEY,\n",
    "    Region VARCHAR(50) UNIQUE\n",
    ")\n",
    "''')\n",
    "\n",
    "cursor.execute('''\n",
    "CREATE TABLE IF NOT EXISTS viajes (\n",
    "    ID_Viaje INT PRIMARY KEY,\n",
    "    ID_Ruta INT,\n",
    "    Numero_Pasajeros FLOAT,\n",
    "    Duracion_Viaje_Minutos FLOAT,\n",
    "    Retraso_Minutos INT,\n",
    "    ID_Tipo_Transporte INT,\n",
    "    ID_Region INT,\n",
    "    Dia_Semana VARCHAR(20),\n",
    "    Mes INT,\n",
    "    Día INT,\n",
    "    Hora INT,\n",
    "    FOREIGN KEY (ID_Ruta) REFERENCES rutas(ID_Ruta),\n",
    "    FOREIGN KEY (ID_Tipo_Transporte) REFERENCES tipos_transporte(ID_Tipo_Transporte),\n",
    "    FOREIGN KEY (ID_Region) REFERENCES regiones(ID_Region)\n",
    ")\n",
    "''')\n",
    "\n",
    "conn.commit()\n"
   ]
  },
  {
   "cell_type": "code",
   "execution_count": null,
   "metadata": {},
   "outputs": [],
   "source": [
    "# Insertar datos únicos en las tablas 'rutas', 'tipos_transporte' y 'regiones'\n",
    "for ruta in df['Ruta'].unique():\n",
    "    cursor.execute('INSERT IGNORE INTO rutas (Ruta) VALUES (%s)', (ruta,))\n",
    "\n",
    "for tipo in df['Tipo_Transporte'].unique():\n",
    "    cursor.execute('INSERT IGNORE INTO tipos_transporte (Tipo_Transporte) VALUES (%s)', (tipo,))\n",
    "\n",
    "for region in df['Region'].unique():\n",
    "    cursor.execute('INSERT IGNORE INTO regiones (Region) VALUES (%s)', (region,))\n",
    "\n",
    "conn.commit()\n"
   ]
  },
  {
   "cell_type": "code",
   "execution_count": null,
   "metadata": {},
   "outputs": [],
   "source": [
    "# Convertir el DataFrame a una lista de tuplas\n",
    "datos_viajes = df.to_records(index=False).tolist()\n",
    "\n",
    "# Definir la consulta de inserción para viajes con subconsultas para obtener los IDs\n",
    "consulta_insercion_viajes = '''\n",
    "INSERT INTO viajes (\n",
    "    ID_Viaje, ID_Ruta, Numero_Pasajeros, Duracion_Viaje_Minutos, Retraso_Minutos, \n",
    "    ID_Tipo_Transporte, ID_Region, Dia_Semana, Mes, Día, Hora\n",
    ") VALUES (\n",
    "    %s, \n",
    "    (SELECT ID_Ruta FROM rutas WHERE Ruta = %s),\n",
    "    %s, %s, %s, \n",
    "    (SELECT ID_Tipo_Transporte FROM tipos_transporte WHERE Tipo_Transporte = %s),\n",
    "    (SELECT ID_Region FROM regiones WHERE Region = %s),\n",
    "    %s, %s, %s, %s\n",
    ")\n",
    "'''\n",
    "\n",
    "# Preparar los datos para la inserción\n",
    "datos_viajes_preparados = [\n",
    "    (\n",
    "        row.ID_Viaje, row.Ruta, row.Numero_Pasajeros, row.Duracion_Viaje_Minutos, row.Retraso_Minutos, \n",
    "        row.Tipo_Transporte, row.Region, row.Dia_Semana, row.Mes, row.Día, row.Hora\n",
    "    )\n",
    "    for row in df.itertuples()\n",
    "]\n",
    "\n",
    "# Insertar los datos en la tabla 'viajes'\n",
    "cursor.executemany(consulta_insercion_viajes, datos_viajes_preparados)\n",
    "\n",
    "conn.commit()\n",
    "conn.close()\n"
   ]
  },
  {
   "cell_type": "code",
   "execution_count": null,
   "metadata": {},
   "outputs": [],
   "source": [
    "df = pd.DataFrame(df)"
   ]
  },
  {
   "cell_type": "code",
   "execution_count": null,
   "metadata": {},
   "outputs": [],
   "source": [
    "df.shape"
   ]
  },
  {
   "cell_type": "code",
   "execution_count": null,
   "metadata": {},
   "outputs": [],
   "source": [
    "df.info()"
   ]
  },
  {
   "cell_type": "code",
   "execution_count": null,
   "metadata": {},
   "outputs": [],
   "source": [
    "# Exportar los datos limpios a un archivo CSV\n",
    "df.to_csv('transporte_publico_limpio.csv', index=False)\n"
   ]
  }
 ],
 "metadata": {
  "kernelspec": {
   "display_name": "Python 3",
   "language": "python",
   "name": "python3"
  },
  "language_info": {
   "codemirror_mode": {
    "name": "ipython",
    "version": 3
   },
   "file_extension": ".py",
   "mimetype": "text/x-python",
   "name": "python",
   "nbconvert_exporter": "python",
   "pygments_lexer": "ipython3",
   "version": "3.12.3"
  }
 },
 "nbformat": 4,
 "nbformat_minor": 2
}
